{
 "cells": [
  {
   "cell_type": "markdown",
   "id": "19f89062-7fad-4a4a-9290-12c67c112545",
   "metadata": {},
   "source": [
    "#Lambda Functions"
   ]
  },
  {
   "cell_type": "code",
   "execution_count": 5,
   "id": "444260fb-85b9-4b73-af38-837979533f0b",
   "metadata": {},
   "outputs": [
    {
     "name": "stdout",
     "output_type": "stream",
     "text": [
      "8\n",
      "16\n",
      "5\n",
      "True\n",
      "False\n",
      "15\n"
     ]
    }
   ],
   "source": [
    "#Create Simple Lambda Functions for Various Operations\n",
    "\n",
    "add = lambda a, b: a + b\n",
    "print(add(5, 3))\n",
    "\n",
    "square = lambda x: x ** 2\n",
    "print(square(4))\n",
    "\n",
    "length = lambda s: len(s)\n",
    "print(length(\"hello\"))\n",
    "\n",
    "is_even = lambda n: n % 2 == 0\n",
    "print(is_even(10))\n",
    "print(is_even(7))\n",
    "\n",
    "area_rectangle = lambda length, width: length * width\n",
    "print(area_rectangle(5, 3))"
   ]
  },
  {
   "cell_type": "code",
   "execution_count": 7,
   "id": "614eaeb1-4841-4a5a-a6ac-a53380b916ba",
   "metadata": {},
   "outputs": [
    {
     "name": "stdout",
     "output_type": "stream",
     "text": [
      "[1, 4, 9, 16, 25]\n",
      "[10, 20, 30]\n",
      "120\n",
      "[('Bob', 20), ('Charlie', 23), ('Alice', 25)]\n",
      "False\n",
      "True\n"
     ]
    }
   ],
   "source": [
    "#Use Lambda Functions with Built-in Functions Like map(), filter(), and reduce()\n",
    "numbers = [1, 2, 3, 4, 5]\n",
    "squared_numbers = list(map(lambda x: x ** 2, numbers))\n",
    "print(squared_numbers)\n",
    "\n",
    "numbers = [10, 15, 20, 25, 30]\n",
    "even_numbers = list(filter(lambda x: x % 2 == 0, numbers))\n",
    "print(even_numbers)\n",
    "\n",
    "from functools import reduce\n",
    "\n",
    "numbers = [1, 2, 3, 4, 5]\n",
    "product = reduce(lambda x, y: x * y, numbers)\n",
    "print(product)\n",
    "\n",
    "students = [('Alice', 25), ('Bob', 20), ('Charlie', 23)]\n",
    "# Sort by age\n",
    "sorted_students = sorted(students, key=lambda student: student[1])\n",
    "print(sorted_students)\n",
    "\n",
    "numbers = [2, 4, 6, 8]\n",
    "# Check if any number is odd\n",
    "any_odd = any(map(lambda x: x % 2 != 0, numbers))\n",
    "print(any_odd)\n",
    "\n",
    "# Check if all numbers are even\n",
    "all_even = all(map(lambda x: x % 2 == 0, numbers))\n",
    "print(all_even)\n"
   ]
  },
  {
   "cell_type": "code",
   "execution_count": 9,
   "id": "7bbe8fc6-dddd-4e9c-bf41-945b8aa53545",
   "metadata": {},
   "outputs": [
    {
     "name": "stdout",
     "output_type": "stream",
     "text": [
      "8\n",
      "8\n",
      "[2, 4, 6]\n",
      "[2, 4, 6]\n",
      "[(2, 'apple'), (1, 'banana'), (3, 'pear')]\n",
      "[(2, 'apple'), (1, 'banana'), (3, 'pear')]\n"
     ]
    }
   ],
   "source": [
    "#Compare Lambda Functions with Regular Functions (Syntax and Use Cases)\n",
    "# Regular function\n",
    "def add(a, b):\n",
    "    return a + b\n",
    "print(add(5, 3))\n",
    "\n",
    "# Lambda function\n",
    "add_lambda = lambda a, b: a + b\n",
    "print(add_lambda(5, 3))\n",
    "\n",
    "def is_even(n):\n",
    "    return n % 2 == 0\n",
    "\n",
    "# Regular function\n",
    "numbers = [1, 2, 3, 4, 5, 6]\n",
    "even_numbers = list(filter(is_even, numbers))\n",
    "print(even_numbers)  # Output: [2, 4, 6]\n",
    "\n",
    "# Lambda function\n",
    "numbers = [1, 2, 3, 4, 5, 6]\n",
    "even_numbers = list(filter(lambda n: n % 2 == 0, numbers))\n",
    "print(even_numbers)  # Output: [2, 4, 6]\n",
    "\n",
    "# Regular function\n",
    "def sort_by_second(item):\n",
    "    return item[1]\n",
    "\n",
    "data = [(1, 'banana'), (2, 'apple'), (3, 'pear')]\n",
    "sorted_data = sorted(data, key=sort_by_second)\n",
    "print(sorted_data)  # Output: [(2, 'apple'), (1, 'banana'), (3, 'pear')]\n",
    "\n",
    "# Lambda function\n",
    "data = [(1, 'banana'), (2, 'apple'), (3, 'pear')]\n",
    "sorted_data = sorted(data, key=lambda item: item[1])\n",
    "print(sorted_data)  # Output: [(2, 'apple'), (1, 'banana'), (3, 'pear')]"
   ]
  },
  {
   "cell_type": "code",
   "execution_count": null,
   "id": "5e666622-90dd-4a99-8a9e-74d72757aec4",
   "metadata": {},
   "outputs": [],
   "source": []
  }
 ],
 "metadata": {
  "kernelspec": {
   "display_name": "Python 3 (ipykernel)",
   "language": "python",
   "name": "python3"
  },
  "language_info": {
   "codemirror_mode": {
    "name": "ipython",
    "version": 3
   },
   "file_extension": ".py",
   "mimetype": "text/x-python",
   "name": "python",
   "nbconvert_exporter": "python",
   "pygments_lexer": "ipython3",
   "version": "3.12.4"
  }
 },
 "nbformat": 4,
 "nbformat_minor": 5
}
