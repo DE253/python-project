{
 "cells": [
  {
   "cell_type": "markdown",
   "id": "69b410b0-a421-4e34-bfb6-fad031cb1d77",
   "metadata": {},
   "source": [
    "If Statements"
   ]
  },
  {
   "cell_type": "code",
   "execution_count": 6,
   "id": "25227ddf-f24b-4e89-b2d4-b500809e452e",
   "metadata": {},
   "outputs": [
    {
     "name": "stdout",
     "output_type": "stream",
     "text": [
      "You are an adult.\n",
      "It's a nice day.\n"
     ]
    }
   ],
   "source": [
    "#Basic if and else Statement\n",
    "age = 18\n",
    "\n",
    "if age >= 18:\n",
    "    print(\"You are an adult.\")\n",
    "else:\n",
    "    print(\"You are not an adult.\")\n",
    "\n",
    "#Using elif for Multiple Conditions\n",
    "temperature = 30\n",
    "\n",
    "if temperature > 35:\n",
    "    print(\"It's very hot.\")\n",
    "elif temperature > 20:\n",
    "    print(\"It's a nice day.\")\n",
    "else:\n",
    "    print(\"It's cold.\")"
   ]
  },
  {
   "cell_type": "code",
   "execution_count": 8,
   "id": "cf4e0f26-3fc7-460d-826b-e0336529140a",
   "metadata": {},
   "outputs": [
    {
     "name": "stdout",
     "output_type": "stream",
     "text": [
      "You are at work.\n"
     ]
    }
   ],
   "source": [
    "#Creating Complex Conditional Expressions\n",
    "time = 14  # 2 PM\n",
    "day = \"Monday\"\n",
    "\n",
    "if time > 9 and time < 17 and day == \"Monday\":\n",
    "    print(\"You are at work.\")\n",
    "else:\n",
    "    print(\"You are not at work.\")"
   ]
  },
  {
   "cell_type": "code",
   "execution_count": 10,
   "id": "5d3598a9-e502-412c-a51d-cc60679d0c46",
   "metadata": {},
   "outputs": [
    {
     "name": "stdout",
     "output_type": "stream",
     "text": [
      "You can enter the concert.\n"
     ]
    }
   ],
   "source": [
    "#Implementing Nested if Statements\n",
    "age = 22\n",
    "has_ticket = True\n",
    "\n",
    "if age >= 18:\n",
    "    if has_ticket:\n",
    "        print(\"You can enter the concert.\")\n",
    "    else:\n",
    "        print(\"You need a ticket to enter.\")\n",
    "else:\n",
    "    print(\"You are too young to enter.\")"
   ]
  },
  {
   "cell_type": "code",
   "execution_count": 12,
   "id": "60bd2b7f-af21-470f-8e0c-603202442ed6",
   "metadata": {},
   "outputs": [
    {
     "name": "stdout",
     "output_type": "stream",
     "text": [
      "It's the weekend, have fun!\n"
     ]
    }
   ],
   "source": [
    "#Combining elif and Nested if Statements\n",
    "time = 12  # Noon\n",
    "day = \"Sunday\"\n",
    "is_holiday = False\n",
    "\n",
    "if day == \"Saturday\" or day == \"Sunday\":\n",
    "    if is_holiday:\n",
    "        print(\"It's a holiday, relax!\")\n",
    "    else:\n",
    "        print(\"It's the weekend, have fun!\")\n",
    "elif time >= 9 and time <= 17:\n",
    "    print(\"You should be working.\")\n",
    "else:\n",
    "    print(\"You're free for the day.\")"
   ]
  },
  {
   "cell_type": "code",
   "execution_count": 14,
   "id": "fbdb91d3-7482-4219-b694-c5068dcb1922",
   "metadata": {},
   "outputs": [
    {
     "name": "stdout",
     "output_type": "stream",
     "text": [
      "You got a B.\n"
     ]
    }
   ],
   "source": [
    "#Conditional Expressions with Comparisons\n",
    "grade = 85\n",
    "\n",
    "if grade >= 90:\n",
    "    print(\"You got an A.\")\n",
    "elif grade >= 80:\n",
    "    print(\"You got a B.\")\n",
    "elif grade >= 70:\n",
    "    print(\"You got a C.\")\n",
    "else:\n",
    "    print(\"You need to study more.\")"
   ]
  },
  {
   "cell_type": "code",
   "execution_count": null,
   "id": "457a3747-41d7-4339-9b3f-00e438a84017",
   "metadata": {},
   "outputs": [],
   "source": []
  }
 ],
 "metadata": {
  "kernelspec": {
   "display_name": "Python 3 (ipykernel)",
   "language": "python",
   "name": "python3"
  },
  "language_info": {
   "codemirror_mode": {
    "name": "ipython",
    "version": 3
   },
   "file_extension": ".py",
   "mimetype": "text/x-python",
   "name": "python",
   "nbconvert_exporter": "python",
   "pygments_lexer": "ipython3",
   "version": "3.12.4"
  }
 },
 "nbformat": 4,
 "nbformat_minor": 5
}
