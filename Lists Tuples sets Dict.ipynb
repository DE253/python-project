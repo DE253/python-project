{
 "cells": [
  {
   "cell_type": "markdown",
   "id": "72888eb0-147d-4831-b914-f9319e820a98",
   "metadata": {},
   "source": [
    "#Lists, Tuples, Sets, Dictionaries"
   ]
  },
  {
   "cell_type": "code",
   "execution_count": 4,
   "id": "72355eae-3f63-439b-a72a-9c2e1b7ebafd",
   "metadata": {},
   "outputs": [
    {
     "name": "stdout",
     "output_type": "stream",
     "text": [
      "cherry\n",
      "['apple', 'cherry', 'orange']\n",
      "red\n",
      "1\n",
      "1\n",
      "{1, 3, 4, 5}\n",
      "Alice\n",
      "{'name': 'Alice', 'city': 'New York', 'email': 'alice@example.com'}\n"
     ]
    }
   ],
   "source": [
    "#Creating and Manipulating Lists, Tuples, Sets, and Dictionaries\n",
    "# Creating a list\n",
    "fruits = [\"apple\", \"banana\", \"cherry\"]\n",
    "\n",
    "# Adding an element to the list\n",
    "fruits.append(\"orange\")\n",
    "\n",
    "# Removing an element\n",
    "fruits.remove(\"banana\")\n",
    "\n",
    "# Accessing an element by index\n",
    "print(fruits[1])\n",
    "\n",
    "# Final list\n",
    "print(fruits)  \n",
    "\n",
    "#Create and Manipulate a Tuple\n",
    "colors = (\"red\", \"green\", \"blue\")\n",
    "\n",
    "# Accessing an element by index\n",
    "print(colors[0])\n",
    "\n",
    "# Tuples are immutable, so you cannot add or remove elements, but you can count or find index:\n",
    "print(colors.count(\"blue\"))\n",
    "print(colors.index(\"green\"))\n",
    "\n",
    "# Creating a set\n",
    "numbers = {1, 2, 3, 4}\n",
    "\n",
    "# Adding an element\n",
    "numbers.add(5)\n",
    "\n",
    "# Removing an element\n",
    "numbers.remove(2)\n",
    "\n",
    "# Sets don't allow duplicates, so trying to add an existing element does nothing\n",
    "numbers.add(3)\n",
    "\n",
    "print(numbers) \n",
    "\n",
    "# Creating a dictionary\n",
    "person = {\n",
    "    \"name\": \"Alice\",\n",
    "    \"age\": 25,\n",
    "    \"city\": \"New York\"\n",
    "}\n",
    "\n",
    "# Adding a key-value pair\n",
    "person[\"email\"] = \"alice@example.com\"\n",
    "\n",
    "# Removing a key-value pair\n",
    "del person[\"age\"]\n",
    "\n",
    "# Accessing a value by key\n",
    "print(person[\"name\"])  # Output: Alice\n",
    "\n",
    "# Final dictionary\n",
    "print(person)"
   ]
  },
  {
   "cell_type": "code",
   "execution_count": 6,
   "id": "d340a438-f4a8-460b-bb71-83ad14670f20",
   "metadata": {},
   "outputs": [
    {
     "name": "stdout",
     "output_type": "stream",
     "text": [
      "[1, 2, 2, 3]\n",
      "(1, 2, 2, 3)\n",
      "{1, 2, 3}\n",
      "{'a': 3, 'b': 2}\n"
     ]
    }
   ],
   "source": [
    "#Understanding the Differences Between Lists, Tuples, Sets, and Dictionaries\n",
    "# List allows duplicates\n",
    "my_list = [1, 2, 2, 3]\n",
    "print(my_list)\n",
    "\n",
    "# Tuple is immutable and allows duplicates\n",
    "my_tuple = (1, 2, 2, 3)\n",
    "print(my_tuple)\n",
    "\n",
    "# Set removes duplicates automatically\n",
    "my_set = {1, 2, 2, 3}\n",
    "print(my_set)\n",
    "\n",
    "# Dictionary with unique keys\n",
    "my_dict = {\"a\": 1, \"b\": 2, \"a\": 3}  # 'a' is overwritten\n",
    "print(my_dict)"
   ]
  },
  {
   "cell_type": "code",
   "execution_count": 8,
   "id": "2169c5cc-a90d-42fc-81e5-e930d401fe3a",
   "metadata": {},
   "outputs": [
    {
     "name": "stdout",
     "output_type": "stream",
     "text": [
      "30\n",
      "[20, 30, 40]\n",
      "b\n",
      "{1, 2, 3, 4}\n",
      "{1, 3, 4}\n",
      "{1, 3, 4}\n",
      "{'name': 'John', 'age': 30, 'city': 'New York'}\n",
      "{'name': 'John', 'age': 31, 'city': 'New York'}\n",
      "{'name': 'John', 'age': 31}\n"
     ]
    }
   ],
   "source": [
    "#Perform Operations Like Indexing, Slicing, Adding, Removing Elements\n",
    "# List indexing\n",
    "my_list = [10, 20, 30, 40, 50]\n",
    "print(my_list[2])\n",
    "\n",
    "# List slicing\n",
    "print(my_list[1:4])\n",
    "\n",
    "# Tuple indexing\n",
    "my_tuple = (\"a\", \"b\", \"c\", \"d\")\n",
    "print(my_tuple[1])\n",
    "\n",
    "# Adding elements to a set\n",
    "my_set = {1, 2, 3}\n",
    "my_set.add(4)\n",
    "print(my_set)\n",
    "\n",
    "# Removing an element\n",
    "my_set.remove(2)\n",
    "print(my_set)\n",
    "\n",
    "# Sets don't allow duplicates\n",
    "my_set.add(3)\n",
    "print(my_set)\n",
    "\n",
    "# Adding new key-value pair\n",
    "my_dict = {\"name\": \"John\", \"age\": 30}\n",
    "my_dict[\"city\"] = \"New York\"\n",
    "print(my_dict) \n",
    "\n",
    "# Updating an existing value\n",
    "my_dict[\"age\"] = 31\n",
    "print(my_dict) \n",
    "\n",
    "# Deleting a key-value pair\n",
    "del my_dict[\"city\"]\n",
    "print(my_dict)"
   ]
  },
  {
   "cell_type": "code",
   "execution_count": 10,
   "id": "c0fff8f8-58cc-4fbc-8e12-5c7843003f1e",
   "metadata": {},
   "outputs": [
    {
     "name": "stdout",
     "output_type": "stream",
     "text": [
      "[1, 2, 3]\n",
      "[3, 2, 1]\n",
      "3\n",
      "True\n",
      "{1, 2, 3, 4, 5}\n",
      "{3}\n",
      "dict_keys(['name', 'age', 'city'])\n",
      "dict_values(['Alice', 25, 'New York'])\n",
      "dict_items([('name', 'Alice'), ('age', 25), ('city', 'New York')])\n",
      "Alice\n"
     ]
    }
   ],
   "source": [
    "#Explore Built-in Methods for Each Data Structure\n",
    "# List methods\n",
    "my_list = [3, 1, 2]\n",
    "\n",
    "# Sorting the list\n",
    "my_list.sort()\n",
    "print(my_list)\n",
    "\n",
    "# Reversing the list\n",
    "my_list.reverse()\n",
    "print(my_list)\n",
    "\n",
    "# Getting the length of the list\n",
    "print(len(my_list))  # Output: 3\n",
    "\n",
    "# Set methods\n",
    "my_set = {1, 2, 3}\n",
    "\n",
    "# Check if an element is in the set\n",
    "print(2 in my_set) \n",
    "\n",
    "# Set union (combining two sets)\n",
    "another_set = {3, 4, 5}\n",
    "union_set = my_set.union(another_set)\n",
    "print(union_set) \n",
    "\n",
    "# Set intersection (common elements)\n",
    "intersection_set = my_set.intersection(another_set)\n",
    "print(intersection_set) \n",
    "\n",
    "# Dictionary methods\n",
    "my_dict = {\"name\": \"Alice\", \"age\": 25, \"city\": \"New York\"}\n",
    "\n",
    "# Get all the keys\n",
    "print(my_dict.keys())\n",
    "\n",
    "# Get all the values\n",
    "print(my_dict.values())\n",
    "\n",
    "# Get all key-value pairs\n",
    "print(my_dict.items())\n",
    "\n",
    "# Get value for a specific key\n",
    "print(my_dict.get(\"name\"))\n"
   ]
  },
  {
   "cell_type": "code",
   "execution_count": null,
   "id": "52f76fc3-8715-4f42-b5d7-87addbeb4d17",
   "metadata": {},
   "outputs": [],
   "source": []
  }
 ],
 "metadata": {
  "kernelspec": {
   "display_name": "Python 3 (ipykernel)",
   "language": "python",
   "name": "python3"
  },
  "language_info": {
   "codemirror_mode": {
    "name": "ipython",
    "version": 3
   },
   "file_extension": ".py",
   "mimetype": "text/x-python",
   "name": "python",
   "nbconvert_exporter": "python",
   "pygments_lexer": "ipython3",
   "version": "3.12.4"
  }
 },
 "nbformat": 4,
 "nbformat_minor": 5
}
