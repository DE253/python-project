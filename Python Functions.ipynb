{
 "cells": [
  {
   "cell_type": "markdown",
   "id": "9e06a822-7a2b-4dd3-8bf9-dbf7600686ae",
   "metadata": {},
   "source": [
    "#Python Functions"
   ]
  },
  {
   "cell_type": "code",
   "execution_count": null,
   "id": "aea09103-fe38-4cfe-9ea8-827e8a7355f6",
   "metadata": {},
   "outputs": [],
   "source": [
    "# Function with no parameters, returns a boolean\n",
    "def is_raining():\n",
    "    return False\n",
    "\n",
    "# Function with one parameter, returns the cube of a number\n",
    "def cube(num):\n",
    "    return num ** 3\n",
    "\n",
    "# Function with two parameters, returns their difference\n",
    "def subtract(a, b):\n",
    "    return a - b\n",
    "\n",
    "# Function with three parameters, returns the average\n",
    "def average(x, y, z):\n",
    "    return (x + y + z) / 3\n",
    "\n",
    "# Function with a dictionary as a parameter, returns keys as a list\n",
    "def extract_keys(data):\n",
    "    return list(data.keys())"
   ]
  },
  {
   "cell_type": "code",
   "execution_count": 14,
   "id": "f5b22388-da0d-48d3-b43e-848c8c6216da",
   "metadata": {},
   "outputs": [
    {
     "name": "stdout",
     "output_type": "stream",
     "text": [
      "False\n",
      "27\n",
      "6\n",
      "8.0\n",
      "['name', 'age']\n"
     ]
    }
   ],
   "source": [
    "print(is_raining())\n",
    "print(cube(3))\n",
    "print(subtract(10, 4))\n",
    "print(average(4, 8, 12))\n",
    "print(extract_keys({'name': 'Alice', 'age': 25}))"
   ]
  },
  {
   "cell_type": "markdown",
   "id": "ff1739ff-a7d7-4cf6-ac12-013f10a0b0cb",
   "metadata": {},
   "source": [
    "##Explore function scope and variable accessibility."
   ]
  },
  {
   "cell_type": "code",
   "execution_count": 22,
   "id": "eabf39c8-71f4-4853-9738-d7fbedfa546c",
   "metadata": {},
   "outputs": [
    {
     "name": "stdout",
     "output_type": "stream",
     "text": [
      "Before function call: [1, 2, 3]\n",
      "Inside function: [4, 5, 6, 7]\n",
      "After function call: [1, 2, 3]\n",
      "After modifying global list: [1, 2, 3, 8, 9]\n"
     ]
    }
   ],
   "source": [
    "#Function Scope and Variable Accessibility\n",
    "# Global and local scope example with a list\n",
    "\n",
    "my_list = [1, 2, 3]  # Global list\n",
    "\n",
    "def append_to_list():\n",
    "    my_list = [4, 5, 6]  # Local list, shadows the global list\n",
    "    my_list.append(7)\n",
    "    print(f\"Inside function: {my_list}\")\n",
    "\n",
    "def modify_global_list():\n",
    "    global my_list  # Referencing global list\n",
    "    my_list.append(8)\n",
    "    my_list.append(9)\n",
    "\n",
    "print(f\"Before function call: {my_list}\")\n",
    "append_to_list()\n",
    "print(f\"After function call: {my_list}\")\n",
    "\n",
    "modify_global_list()\n",
    "print(f\"After modifying global list: {my_list}\")"
   ]
  },
  {
   "cell_type": "code",
   "execution_count": 24,
   "id": "7f24412b-8ace-4e08-9114-19268af06030",
   "metadata": {},
   "outputs": [
    {
     "name": "stdout",
     "output_type": "stream",
     "text": [
      "94.5\n",
      "89.25\n",
      "85.6\n"
     ]
    }
   ],
   "source": [
    "# Function with default values for price and discount\n",
    "def calculate_total(price, discount=0.10, tax=0.05):\n",
    "    \"\"\"\n",
    "    Calculate the total price after applying discount and tax.\n",
    "    \"\"\"\n",
    "    discounted_price = price - (price * discount)\n",
    "    total_price = discounted_price + (discounted_price * tax)\n",
    "    return total_price\n",
    "\n",
    "# No discount or tax override\n",
    "print(calculate_total(100))\n",
    "\n",
    "# Override the default discount\n",
    "print(calculate_total(100, discount=0.15))\n",
    "\n",
    "# Override both discount and tax\n",
    "print(calculate_total(100, discount=0.20, tax=0.07))"
   ]
  },
  {
   "cell_type": "code",
   "execution_count": 28,
   "id": "8892dc8c-7662-44b5-be02-642c083af458",
   "metadata": {},
   "outputs": [
    {
     "name": "stdout",
     "output_type": "stream",
     "text": [
      "15\n",
      "True\n",
      "False\n"
     ]
    }
   ],
   "source": [
    "# Recursive function to calculate the sum of a list\n",
    "def sum_list(numbers):\n",
    "    if not numbers:  # Base case: empty list\n",
    "        return 0\n",
    "    else:\n",
    "        return numbers[0] + sum_list(numbers[1:])\n",
    "\n",
    "# Recursive function to check if a string is a palindrome\n",
    "def is_palindrome(s):\n",
    "    s = s.lower().replace(\" \", \"\")  # Ignore case and spaces\n",
    "    if len(s) <= 1:  # Base case: empty or single character string\n",
    "        return True\n",
    "    if s[0] != s[-1]:  # Check the first and last character\n",
    "        return False\n",
    "    return is_palindrome(s[1:-1])  # Recur on the middle substring\n",
    "\n",
    "print(sum_list([1, 2, 3, 4, 5]))\n",
    "print(is_palindrome(\"madam\"))\n",
    "print(is_palindrome(\"hello\"))"
   ]
  },
  {
   "cell_type": "code",
   "execution_count": 32,
   "id": "57866901-dfcf-42dd-917f-d981a70efad5",
   "metadata": {},
   "outputs": [
    {
     "name": "stdout",
     "output_type": "stream",
     "text": [
      "Help on function multiply in module __main__:\n",
      "\n",
      "multiply(a, b)\n",
      "    Multiplies two numbers together.\n",
      "\n",
      "    Parameters:\n",
      "    a (int or float): The first number.\n",
      "    b (int or float): The second number.\n",
      "\n",
      "    Returns:\n",
      "    int or float: The product of a and b.\n",
      "\n",
      "    Example:\n",
      "    >>> multiply(3, 4)\n",
      "    12\n",
      "\n",
      "\n",
      "    Reverses a given string.\n",
      "\n",
      "    Parameters:\n",
      "    s (str): The string to reverse.\n",
      "\n",
      "    Returns:\n",
      "    str: The reversed string.\n",
      "\n",
      "    Example:\n",
      "    >>> reverse_string('hello')\n",
      "    'olleh'\n",
      "    \n"
     ]
    }
   ],
   "source": [
    "#Using Docstrings to Document Functions\n",
    "def multiply(a, b):\n",
    "    \"\"\"\n",
    "    Multiplies two numbers together.\n",
    "\n",
    "    Parameters:\n",
    "    a (int or float): The first number.\n",
    "    b (int or float): The second number.\n",
    "\n",
    "    Returns:\n",
    "    int or float: The product of a and b.\n",
    "\n",
    "    Example:\n",
    "    >>> multiply(3, 4)\n",
    "    12\n",
    "    \"\"\"\n",
    "    return a * b\n",
    "\n",
    "def reverse_string(s):\n",
    "    \"\"\"\n",
    "    Reverses a given string.\n",
    "\n",
    "    Parameters:\n",
    "    s (str): The string to reverse.\n",
    "\n",
    "    Returns:\n",
    "    str: The reversed string.\n",
    "\n",
    "    Example:\n",
    "    >>> reverse_string('hello')\n",
    "    'olleh'\n",
    "    \"\"\"\n",
    "    return s[::-1]\n",
    "\n",
    "# Accessing docstrings\n",
    "help(multiply)\n",
    "print(reverse_string.__doc__)"
   ]
  },
  {
   "cell_type": "code",
   "execution_count": null,
   "id": "ae2000d8-5537-437f-9d68-e25b48e3e85a",
   "metadata": {},
   "outputs": [],
   "source": []
  }
 ],
 "metadata": {
  "kernelspec": {
   "display_name": "Python 3 (ipykernel)",
   "language": "python",
   "name": "python3"
  },
  "language_info": {
   "codemirror_mode": {
    "name": "ipython",
    "version": 3
   },
   "file_extension": ".py",
   "mimetype": "text/x-python",
   "name": "python",
   "nbconvert_exporter": "python",
   "pygments_lexer": "ipython3",
   "version": "3.12.4"
  }
 },
 "nbformat": 4,
 "nbformat_minor": 5
}
