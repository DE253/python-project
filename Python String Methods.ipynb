{
 "cells": [
  {
   "cell_type": "markdown",
   "id": "4a607caf-f3ab-4807-af08-e1a83d58103e",
   "metadata": {},
   "source": [
    "#Python String Methods"
   ]
  },
  {
   "cell_type": "code",
   "execution_count": 2,
   "id": "ded690a3-1334-418e-95da-0a866a274170",
   "metadata": {},
   "outputs": [
    {
     "name": "stdout",
     "output_type": "stream",
     "text": [
      "John Doe\n",
      "Hello\n",
      "World!\n"
     ]
    }
   ],
   "source": [
    "#String Concatenation and Slicing\n",
    "# String concatenation using +\n",
    "first_name = \"Mark\"\n",
    "last_name = \"King\"\n",
    "full_name = first_name + \" \" + last_name\n",
    "print(full_name)  \n",
    "\n",
    "# String slicing\n",
    "greeting = \"Hello, World!\"\n",
    "print(greeting[0:5])  \n",
    "print(greeting[-6:])  "
   ]
  },
  {
   "cell_type": "code",
   "execution_count": 4,
   "id": "c1c17248-876b-4585-93eb-d86b897d2674",
   "metadata": {},
   "outputs": [
    {
     "name": "stdout",
     "output_type": "stream",
     "text": [
      "True\n",
      "False\n",
      "7\n",
      "-1\n"
     ]
    }
   ],
   "source": [
    "#Finding Substrings\n",
    "text = \"Python is awesome\"\n",
    "\n",
    "# Check if a substring exists\n",
    "print(\"awesome\" in text) \n",
    "print(\"bad\" in text)\n",
    "\n",
    "# Find the index of a substring\n",
    "print(text.find(\"is\"))\n",
    "print(text.find(\"bad\"))"
   ]
  },
  {
   "cell_type": "code",
   "execution_count": 8,
   "id": "8e734d32-ef81-4634-9ef1-6f74f0fcc200",
   "metadata": {},
   "outputs": [
    {
     "name": "stdout",
     "output_type": "stream",
     "text": [
      "TODAY IS A GOOD DAY!\n",
      "today is a good day!\n",
      "Today Is A Good Day!\n"
     ]
    }
   ],
   "source": [
    "#Convert Strings to Uppercase, Lowercase, and Title Case\n",
    "message = \"Today is a good day!\"\n",
    "\n",
    "# Convert to uppercase\n",
    "print(message.upper())\n",
    "\n",
    "# Convert to lowercase\n",
    "print(message.lower())\n",
    "\n",
    "# Convert to title case (first letter of each word capitalized)\n",
    "print(message.title()) "
   ]
  },
  {
   "cell_type": "code",
   "execution_count": 10,
   "id": "9a903261-2689-4b22-b03c-9332bf5ae49a",
   "metadata": {},
   "outputs": [
    {
     "name": "stdout",
     "output_type": "stream",
     "text": [
      "Python is fun!\n",
      "Python is fun!   \n",
      "   Python is fun!\n",
      "['Python', 'is', 'fun!']\n"
     ]
    }
   ],
   "source": [
    "#Removing Whitespace and Splitting Strings\n",
    "sentence = \"   Python is fun!   \"\n",
    "\n",
    "# Remove leading and trailing whitespace\n",
    "print(sentence.strip())\n",
    "\n",
    "# Remove only leading whitespace\n",
    "print(sentence.lstrip())  \n",
    "\n",
    "# Remove only trailing whitespace\n",
    "print(sentence.rstrip())\n",
    "\n",
    "# Splitting a string into a list of words\n",
    "words = sentence.strip().split(\" \")\n",
    "print(words)"
   ]
  },
  {
   "cell_type": "code",
   "execution_count": 12,
   "id": "d849ad8a-2d37-48bc-90d9-4a8added166d",
   "metadata": {},
   "outputs": [
    {
     "name": "stdout",
     "output_type": "stream",
     "text": [
      "The sky is green and the ocean is green.\n",
      "True\n",
      "True\n"
     ]
    }
   ],
   "source": [
    "#Replace and Check String Content\n",
    "quote = \"The sky is blue and the ocean is blue.\"\n",
    "\n",
    "# Replace all occurrences of \"blue\" with \"green\"\n",
    "updated_quote = quote.replace(\"blue\", \"green\")\n",
    "print(updated_quote)\n",
    "\n",
    "# Check if a string starts with or ends with a specific substring\n",
    "print(quote.startswith(\"The\"))\n",
    "print(quote.endswith(\"blue.\"))"
   ]
  },
  {
   "cell_type": "code",
   "execution_count": null,
   "id": "06697fed-0df3-4e3d-af5b-7e1d32fad657",
   "metadata": {},
   "outputs": [],
   "source": []
  }
 ],
 "metadata": {
  "kernelspec": {
   "display_name": "Python 3 (ipykernel)",
   "language": "python",
   "name": "python3"
  },
  "language_info": {
   "codemirror_mode": {
    "name": "ipython",
    "version": 3
   },
   "file_extension": ".py",
   "mimetype": "text/x-python",
   "name": "python",
   "nbconvert_exporter": "python",
   "pygments_lexer": "ipython3",
   "version": "3.12.4"
  }
 },
 "nbformat": 4,
 "nbformat_minor": 5
}
