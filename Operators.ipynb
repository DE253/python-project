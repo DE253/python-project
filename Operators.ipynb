{
 "cells": [
  {
   "cell_type": "markdown",
   "id": "fc73386b-8398-4ef6-ba5c-0a119bbeff40",
   "metadata": {},
   "source": [
    "#Operators"
   ]
  },
  {
   "cell_type": "code",
   "execution_count": 2,
   "id": "26948af2-9d84-4f2c-a536-a0baa9f9fb9b",
   "metadata": {},
   "outputs": [
    {
     "name": "stdout",
     "output_type": "stream",
     "text": [
      "13\n",
      "7\n",
      "30\n",
      "3.3333333333333335\n",
      "1\n",
      "1000\n",
      "3\n"
     ]
    }
   ],
   "source": [
    "# Using Arithmetic Operators\n",
    "a = 10\n",
    "b = 3\n",
    "\n",
    "# Addition\n",
    "print(a + b)\n",
    "\n",
    "# Subtraction\n",
    "print(a - b)\n",
    "\n",
    "# Multiplication\n",
    "print(a * b)\n",
    "\n",
    "# Division\n",
    "print(a / b)\n",
    "\n",
    "# Modulus (remainder)\n",
    "print(a % b)\n",
    "\n",
    "# Exponentiation (a raised to the power of b)\n",
    "print(a ** b)\n",
    "\n",
    "# Floor Division (integer division, discards the remainder)\n",
    "print(a // b)\n"
   ]
  },
  {
   "cell_type": "code",
   "execution_count": 4,
   "id": "dc1f39ae-f089-4b63-9069-4896fed65b2b",
   "metadata": {},
   "outputs": [
    {
     "name": "stdout",
     "output_type": "stream",
     "text": [
      "False\n",
      "True\n",
      "False\n",
      "True\n",
      "True\n",
      "True\n"
     ]
    }
   ],
   "source": [
    "#Using Comparison Operators\n",
    "x = 5\n",
    "y = 10\n",
    "\n",
    "# Equal to\n",
    "print(x == y)\n",
    "\n",
    "# Not equal to\n",
    "print(x != y)\n",
    "\n",
    "# Greater than\n",
    "print(x > y) \n",
    "\n",
    "# Less than\n",
    "print(x < y) \n",
    "\n",
    "# Greater than or equal to\n",
    "print(x >= 5) \n",
    "\n",
    "# Less than or equal to\n",
    "print(x <= y) \n"
   ]
  },
  {
   "cell_type": "code",
   "execution_count": 6,
   "id": "9888d946-f55f-44e9-bb58-9e1b06806636",
   "metadata": {},
   "outputs": [
    {
     "name": "stdout",
     "output_type": "stream",
     "text": [
      "False\n",
      "True\n",
      "False\n",
      "Adult, not a student.\n"
     ]
    }
   ],
   "source": [
    "#Using Logical Operators\n",
    "a = True\n",
    "b = False\n",
    "\n",
    "# Logical AND: True if both are True\n",
    "print(a and b) \n",
    "\n",
    "# Logical OR: True if at least one is True\n",
    "print(a or b) \n",
    "\n",
    "# Logical NOT: Inverts the boolean value\n",
    "print(not a) \n",
    "\n",
    "age = 25\n",
    "is_student = False\n",
    "\n",
    "# Logical and comparison operators\n",
    "if age > 18 and not is_student:\n",
    "    print(\"Adult, not a student.\")\n"
   ]
  },
  {
   "cell_type": "code",
   "execution_count": 8,
   "id": "c85e5771-ac13-4e62-8c78-01f18ae32ed9",
   "metadata": {},
   "outputs": [
    {
     "name": "stdout",
     "output_type": "stream",
     "text": [
      "5\n",
      "7\n",
      "4\n",
      "16\n",
      "8.0\n"
     ]
    }
   ],
   "source": [
    "# Using Assignment Operators\n",
    "a = 5  # Simple assignment\n",
    "print(a)  # Output: 5\n",
    "\n",
    "# Add and assign\n",
    "a += 2  # Same as a = a + 2\n",
    "print(a) \n",
    "\n",
    "# Subtract and assign\n",
    "a -= 3  # Same as a = a - 3\n",
    "print(a) \n",
    "\n",
    "# Multiply and assign\n",
    "a *= 4  # Same as a = a * 4\n",
    "print(a)\n",
    "\n",
    "# Divide and assign\n",
    "a /= 2  # Same as a = a / 2\n",
    "print(a) "
   ]
  },
  {
   "cell_type": "code",
   "execution_count": 10,
   "id": "e8923794-94ae-4945-ac6a-20683b502f22",
   "metadata": {},
   "outputs": [
    {
     "name": "stdout",
     "output_type": "stream",
     "text": [
      "20\n",
      "30\n",
      "25.0\n"
     ]
    }
   ],
   "source": [
    "#Understanding Operator Precedence\n",
    "# Without parentheses\n",
    "result = 10 + 5 * 2  # Multiplication (*) has higher precedence than addition (+)\n",
    "print(result)\n",
    "\n",
    "# With parentheses to change precedence\n",
    "result = (10 + 5) * 2  # Parentheses force addition to be evaluated first\n",
    "print(result)\n",
    "\n",
    "# More complex expression\n",
    "result = 100 / 5 + 2 * 3 - 1\n",
    "# First: division and multiplication (100 / 5 = 20, 2 * 3 = 6)\n",
    "# Then: addition and subtraction (20 + 6 - 1 = 25)\n",
    "print(result)"
   ]
  },
  {
   "cell_type": "code",
   "execution_count": null,
   "id": "6668a2de-54da-46e8-aea8-e6a6471f27aa",
   "metadata": {},
   "outputs": [],
   "source": []
  }
 ],
 "metadata": {
  "kernelspec": {
   "display_name": "Python 3 (ipykernel)",
   "language": "python",
   "name": "python3"
  },
  "language_info": {
   "codemirror_mode": {
    "name": "ipython",
    "version": 3
   },
   "file_extension": ".py",
   "mimetype": "text/x-python",
   "name": "python",
   "nbconvert_exporter": "python",
   "pygments_lexer": "ipython3",
   "version": "3.12.4"
  }
 },
 "nbformat": 4,
 "nbformat_minor": 5
}
