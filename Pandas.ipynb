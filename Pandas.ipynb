{
 "cells": [
  {
   "cell_type": "markdown",
   "id": "8ad62596-1a3a-4623-86aa-4093bc35b5b2",
   "metadata": {},
   "source": [
    "Pandas"
   ]
  },
  {
   "cell_type": "code",
   "execution_count": 1,
   "id": "5920df01-3bc6-44d2-b5ee-4710b0bb210e",
   "metadata": {},
   "outputs": [
    {
     "name": "stdout",
     "output_type": "stream",
     "text": [
      "0    10\n",
      "1    20\n",
      "2    30\n",
      "3    40\n",
      "dtype: int64\n",
      "      Name  Age         City\n",
      "0    Alice   25     New York\n",
      "1      Bob   30  Los Angeles\n",
      "2  Charlie   35      Chicago\n"
     ]
    }
   ],
   "source": [
    "#•\tCreate Pandas Series and DataFrames\n",
    "import pandas as pd\n",
    "\n",
    "# Create a Pandas Series (like a single column)\n",
    "data = [10, 20, 30, 40]\n",
    "series = pd.Series(data)\n",
    "\n",
    "print(series)\n",
    "\n",
    "# Create a Pandas DataFrame (like a table)\n",
    "data = {\n",
    "    'Name': ['Alice', 'Bob', 'Charlie'],\n",
    "    'Age': [25, 30, 35],\n",
    "    'City': ['New York', 'Los Angeles', 'Chicago']\n",
    "}\n",
    "df = pd.DataFrame(data)\n",
    "\n",
    "print(df)"
   ]
  },
  {
   "cell_type": "code",
   "execution_count": 24,
   "id": "bda07131-fd6d-49e6-8ee1-f85b54d7aa20",
   "metadata": {},
   "outputs": [
    {
     "name": "stdout",
     "output_type": "stream",
     "text": [
      "                    Name                                         LI Profile  \\\n",
      "0                Dolly P             https://www.linkedin.com/in/dollypinn/   \n",
      "1         Akshita Khatri         https://www.linkedin.com/in/akshitakhatri/   \n",
      "2  Ashly Chinnu Varghese  https://www.linkedin.com/in/ashly-chinnu-vargh...   \n",
      "3           Swati Sejpal  https://www.linkedin.com/in/swati-sejpal-781a5...   \n",
      "4         Simerjit Singh             https://www.linkedin.com/in/simer8989/   \n",
      "\n",
      "  Current company  Years of Exp as DE  \\\n",
      "0       Cognizant                 4.5   \n",
      "1        Deloitte                 2.0   \n",
      "2             RBC                 3.0   \n",
      "3          Sonova                 3.0   \n",
      "4            CIBC                 5.0   \n",
      "\n",
      "                                              Skills  \\\n",
      "0  Python (Programming Language) • Informatica Po...   \n",
      "1       Python, machine learning, data analysis, SQL   \n",
      "2                                        Python, ETL   \n",
      "3  Azure, ADF, Databricks, SQL, Python, Spark, Ha...   \n",
      "4  SQL, Python, Scala and Bash, Spark, Databricks...   \n",
      "\n",
      "               Career Growth  \n",
      "0  ETL Consultant > DE > SDE  \n",
      "1                         DE  \n",
      "2               Developer>DE  \n",
      "3            DB Developer>DE  \n",
      "4  Application programmer>DE  \n"
     ]
    }
   ],
   "source": [
    "#Load Data from Various File Formats (CSV, Excel, etc.)\n",
    "# Load a CSV file into a DataFrame\n",
    "df = pd.read_excel('DE Roadmap.xlsx')\n",
    "\n",
    "# Show the first few rows\n",
    "print(df.head())"
   ]
  },
  {
   "cell_type": "code",
   "execution_count": 16,
   "id": "6842f8a7-c5c4-4c71-853b-685012466589",
   "metadata": {},
   "outputs": [
    {
     "name": "stdout",
     "output_type": "stream",
     "text": [
      "      Name   Age         City\n",
      "0    Alice  25.0     New York\n",
      "1      Bob   0.0  Los Angeles\n",
      "2  Charlie  35.0      Unknown\n",
      "  Full Name  Years         City\n",
      "0     Alice   25.0     New York\n",
      "1       Bob    0.0  Los Angeles\n",
      "2   Charlie   35.0      Unknown\n",
      "  Full Name  Years      City\n",
      "0     Alice   25.0  New York\n",
      "2   Charlie   35.0   Unknown\n"
     ]
    },
    {
     "name": "stderr",
     "output_type": "stream",
     "text": [
      "C:\\Users\\deept\\AppData\\Local\\Temp\\ipykernel_11048\\2513858262.py:11: FutureWarning: A value is trying to be set on a copy of a DataFrame or Series through chained assignment using an inplace method.\n",
      "The behavior will change in pandas 3.0. This inplace method will never work because the intermediate object on which we are setting values always behaves as a copy.\n",
      "\n",
      "For example, when doing 'df[col].method(value, inplace=True)', try using 'df.method({col: value}, inplace=True)' or df[col] = df[col].method(value) instead, to perform the operation inplace on the original object.\n",
      "\n",
      "\n",
      "  df['Age'].fillna(0, inplace=True)  # Fill missing ages with 0\n",
      "C:\\Users\\deept\\AppData\\Local\\Temp\\ipykernel_11048\\2513858262.py:12: FutureWarning: A value is trying to be set on a copy of a DataFrame or Series through chained assignment using an inplace method.\n",
      "The behavior will change in pandas 3.0. This inplace method will never work because the intermediate object on which we are setting values always behaves as a copy.\n",
      "\n",
      "For example, when doing 'df[col].method(value, inplace=True)', try using 'df.method({col: value}, inplace=True)' or df[col] = df[col].method(value) instead, to perform the operation inplace on the original object.\n",
      "\n",
      "\n",
      "  df['City'].fillna('Unknown', inplace=True)  # Fill missing cities with 'Unknown'\n"
     ]
    }
   ],
   "source": [
    "#Perform Data Cleaning and Manipulation Tasks\n",
    "# Create a DataFrame with missing data (NaN)\n",
    "data = {\n",
    "    'Name': ['Alice', 'Bob', 'Charlie'],\n",
    "    'Age': [25, None, 35],  # Bob's age is missing\n",
    "    'City': ['New York', 'Los Angeles', None]  # Charlie's city is missing\n",
    "}\n",
    "df = pd.DataFrame(data)\n",
    "\n",
    "# Fill missing values with default values\n",
    "df['Age'].fillna(0, inplace=True)  # Fill missing ages with 0\n",
    "df['City'].fillna('Unknown', inplace=True)  # Fill missing cities with 'Unknown'\n",
    "\n",
    "print(df)\n",
    "\n",
    "# Rename the columns in the DataFrame\n",
    "df.rename(columns={'Name': 'Full Name', 'Age': 'Years'}, inplace=True)\n",
    "\n",
    "print(df)\n",
    "\n",
    "# Get rows where Age is greater than 20\n",
    "filtered_df = df[df['Years'] > 20]\n",
    "print(filtered_df)"
   ]
  },
  {
   "cell_type": "code",
   "execution_count": 20,
   "id": "e0c50501-1144-4d77-bae8-3ce6ab653031",
   "metadata": {},
   "outputs": [
    {
     "name": "stdout",
     "output_type": "stream",
     "text": [
      "           Years\n",
      "count   3.000000\n",
      "mean   20.000000\n",
      "std    18.027756\n",
      "min     0.000000\n",
      "25%    12.500000\n",
      "50%    25.000000\n",
      "75%    30.000000\n",
      "max    35.000000\n"
     ]
    },
    {
     "data": {
      "image/png": "[encoded data removed]",
      "text/plain": [
       "<Figure size 640x480 with 1 Axes>"
      ]
     },
     "metadata": {},
     "output_type": "display_data"
    }
   ],
   "source": [
    "#Explore Data Analysis and Visualization Using Pandas\n",
    "# Summarize data with basic statistics\n",
    "summary = df.describe()\n",
    "print(summary)\n",
    "\n",
    "\n",
    "#Simple Plotting\n",
    "import matplotlib.pyplot as plt\n",
    "\n",
    "# Plot a bar chart of Age values\n",
    "df.plot(kind='bar', x='Full Name', y='Years', title='Age of People')\n",
    "\n",
    "# Show the plot\n",
    "plt.show()"
   ]
  },
  {
   "cell_type": "code",
   "execution_count": 22,
   "id": "6e1027fa-5bf8-484c-a3a2-7543701b9175",
   "metadata": {},
   "outputs": [
    {
     "name": "stdout",
     "output_type": "stream",
     "text": [
      "Year      2020   2021\n",
      "Name                 \n",
      "Alice    200.0  250.0\n",
      "Bob      150.0  100.0\n",
      "Charlie  300.0    NaN\n",
      "Name\n",
      "Alice      450\n",
      "Bob        250\n",
      "Charlie    300\n",
      "Name: Sales, dtype: int64\n"
     ]
    }
   ],
   "source": [
    "# Create Pivot Tables and Group Data for Analysis\n",
    "# Create a sample DataFrame\n",
    "data = {\n",
    "    'Name': ['Alice', 'Bob', 'Charlie', 'Alice', 'Bob'],\n",
    "    'Sales': [200, 150, 300, 250, 100],\n",
    "    'Year': [2020, 2020, 2020, 2021, 2021]\n",
    "}\n",
    "df = pd.DataFrame(data)\n",
    "\n",
    "# Create a pivot table that summarizes sales by year\n",
    "pivot_table = df.pivot_table(values='Sales', index='Name', columns='Year', aggfunc='sum')\n",
    "\n",
    "print(pivot_table)\n",
    "\n",
    "\n",
    "# Group the data by Name and get total Sales for each\n",
    "grouped = df.groupby('Name')['Sales'].sum()\n",
    "print(grouped)"
   ]
  },
  {
   "cell_type": "code",
   "execution_count": null,
   "id": "5379240e-daf9-4ba5-a63d-1d053a8b4979",
   "metadata": {},
   "outputs": [],
   "source": []
  }
 ],
 "metadata": {
  "kernelspec": {
   "display_name": "Python 3 (ipykernel)",
   "language": "python",
   "name": "python3"
  },
  "language_info": {
   "codemirror_mode": {
    "name": "ipython",
    "version": 3
   },
   "file_extension": ".py",
   "mimetype": "text/x-python",
   "name": "python",
   "nbconvert_exporter": "python",
   "pygments_lexer": "ipython3",
   "version": "3.12.4"
  }
 },
 "nbformat": 4,
 "nbformat_minor": 5
}
