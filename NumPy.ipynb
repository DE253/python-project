{
 "cells": [
  {
   "cell_type": "markdown",
   "id": "8e581b5f-4f14-4087-bf25-65435557e7e3",
   "metadata": {},
   "source": [
    "NumPy"
   ]
  },
  {
   "cell_type": "code",
   "execution_count": 1,
   "id": "9804ac9f-d005-4790-bb7b-a6e7354483b1",
   "metadata": {},
   "outputs": [
    {
     "name": "stdout",
     "output_type": "stream",
     "text": [
      "[1 2 3 4 5]\n",
      "[[1 2 3]\n",
      " [4 5 6]]\n",
      "[[[1 2]\n",
      "  [3 4]]\n",
      "\n",
      " [[5 6]\n",
      "  [7 8]]]\n"
     ]
    }
   ],
   "source": [
    "#Create Different Types of NumPy Arrays (1D, 2D, 3D)\n",
    "import numpy as np\n",
    "\n",
    "# Create a 1D array (just a list of numbers)\n",
    "arr_1d = np.array([1, 2, 3, 4, 5])\n",
    "print(arr_1d)\n",
    "\n",
    "# Create a 2D array (2 rows, 3 columns)\n",
    "arr_2d = np.array([[1, 2, 3], [4, 5, 6]])\n",
    "print(arr_2d)\n",
    "\n",
    "# Create a 3D array (2 blocks, each with 2 rows and 2 columns)\n",
    "arr_3d = np.array([[[1, 2], [3, 4]], [[5, 6], [7, 8]]])\n",
    "print(arr_3d)\n",
    "\n"
   ]
  },
  {
   "cell_type": "code",
   "execution_count": 3,
   "id": "bee90524-7c52-4847-a0fd-3e1ee98b430e",
   "metadata": {},
   "outputs": [
    {
     "name": "stdout",
     "output_type": "stream",
     "text": [
      "[5 7 9]\n",
      "[-3 -3 -3]\n",
      "[ 4 10 18]\n",
      "[4.  2.5 2. ]\n"
     ]
    }
   ],
   "source": [
    "#Perform Basic Arithmetic Operations on Arrays\n",
    "arr1 = np.array([1, 2, 3])\n",
    "arr2 = np.array([4, 5, 6])\n",
    "\n",
    "# Add arrays (element-wise)\n",
    "result_add = arr1 + arr2\n",
    "print(result_add)\n",
    "\n",
    "\n",
    "# Subtract arrays (element-wise)\n",
    "result_sub = arr1 - arr2\n",
    "print(result_sub)\n",
    "\n",
    "# Multiply arrays (element-wise)\n",
    "result_mul = arr1 * arr2\n",
    "print(result_mul)\n",
    "\n",
    "\n",
    "# Divide arrays (element-wise)\n",
    "result_div = arr2 / arr1\n",
    "print(result_div)\n",
    "\n"
   ]
  },
  {
   "cell_type": "code",
   "execution_count": 5,
   "id": "eec3a191-5eb8-4806-a4d3-484f58f8eb4f",
   "metadata": {},
   "outputs": [
    {
     "name": "stdout",
     "output_type": "stream",
     "text": [
      "10\n",
      "50\n",
      "[20 30]\n",
      "[30 40 50]\n",
      "6\n",
      "[4 5 6]\n",
      "[[1 2]\n",
      " [4 5]]\n"
     ]
    }
   ],
   "source": [
    "#Use Indexing and Slicing to Access Elements\n",
    "arr = np.array([10, 20, 30, 40, 50])\n",
    "\n",
    "# Get the first element (index 0)\n",
    "print(arr[0])\n",
    "\n",
    "# Get the last element (index -1)\n",
    "print(arr[-1])\n",
    "\n",
    "# Get elements from index 1 to 3 (not including 3)\n",
    "print(arr[1:3])\n",
    "\n",
    "# Get elements from index 2 to the end\n",
    "print(arr[2:])\n",
    "\n",
    "arr_2d = np.array([[1, 2, 3], [4, 5, 6]])\n",
    "\n",
    "# Get the value at row 1, column 2\n",
    "print(arr_2d[1, 2])\n",
    "\n",
    "# Get the entire second row\n",
    "print(arr_2d[1, :])  # Output: [4 5 6]\n",
    "\n",
    "# Get the first two columns of both rows\n",
    "print(arr_2d[:, :2])"
   ]
  },
  {
   "cell_type": "code",
   "execution_count": 7,
   "id": "6dcbfb5b-39a9-46e4-a38f-8d5ac02b9eb2",
   "metadata": {},
   "outputs": [
    {
     "name": "stdout",
     "output_type": "stream",
     "text": [
      "[[0 1 2]\n",
      " [3 4 5]]\n",
      "[[1 3 5]\n",
      " [2 4 6]]\n",
      "[1 2 3 4 5 6]\n"
     ]
    }
   ],
   "source": [
    "#Explore Array Manipulation Functions\n",
    "arr = np.array([0, 1, 2, 3, 4, 5])\n",
    "\n",
    "# Change the 1D array into a 2D array (2 rows, 3 columns)\n",
    "reshaped_arr = arr.reshape(2, 3)\n",
    "print(reshaped_arr)\n",
    "\n",
    "arr_2d = np.array([[1, 2], [3, 4], [5, 6]])\n",
    "\n",
    "# Transpose (flip rows and columns)\n",
    "transposed_arr = arr_2d.T\n",
    "print(transposed_arr)\n",
    "\n",
    "arr1 = np.array([1, 2, 3])\n",
    "arr2 = np.array([4, 5, 6])\n",
    "\n",
    "# Concatenate (join) arrays\n",
    "concat_arr = np.concatenate((arr1, arr2))\n",
    "print(concat_arr)\n"
   ]
  },
  {
   "cell_type": "code",
   "execution_count": 9,
   "id": "0795b4a5-2deb-4d82-a507-9522936aef44",
   "metadata": {},
   "outputs": [
    {
     "name": "stdout",
     "output_type": "stream",
     "text": [
      "[0.07040674 0.42461242 0.7021726  0.21421365 0.65472929]\n",
      "[4 1 9 6 5]\n",
      "[0.37454012 0.95071431 0.73199394 0.59865848 0.15601864]\n"
     ]
    }
   ],
   "source": [
    "#Create and Use NumPy Random Number Generators\n",
    "# Generate 5 random numbers between 0 and 1\n",
    "random_numbers = np.random.rand(5)\n",
    "print(random_numbers)\n",
    "\n",
    "# Generate 5 random integers between 1 and 10\n",
    "random_integers = np.random.randint(1, 10, size=5)\n",
    "print(random_integers)\n",
    "\n",
    "# Set seed so that the random numbers will always be the same\n",
    "np.random.seed(42)\n",
    "random_numbers = np.random.rand(5)\n",
    "print(random_numbers)"
   ]
  },
  {
   "cell_type": "code",
   "execution_count": null,
   "id": "f188bd00-2cca-4efd-a29c-2b0d6d4b22d5",
   "metadata": {},
   "outputs": [],
   "source": []
  }
 ],
 "metadata": {
  "kernelspec": {
   "display_name": "Python 3 (ipykernel)",
   "language": "python",
   "name": "python3"
  },
  "language_info": {
   "codemirror_mode": {
    "name": "ipython",
    "version": 3
   },
   "file_extension": ".py",
   "mimetype": "text/x-python",
   "name": "python",
   "nbconvert_exporter": "python",
   "pygments_lexer": "ipython3",
   "version": "3.12.4"
  }
 },
 "nbformat": 4,
 "nbformat_minor": 5
}
