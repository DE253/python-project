{
 "cells": [
  {
   "cell_type": "markdown",
   "id": "cd9168eb-896f-4f94-aa1c-26d065ce53c2",
   "metadata": {},
   "source": [
    "#Reading CSV files"
   ]
  },
  {
   "cell_type": "code",
   "execution_count": 8,
   "id": "88cdca95-e266-455f-ac87-9959a94cc61e",
   "metadata": {},
   "outputs": [
    {
     "name": "stdout",
     "output_type": "stream",
     "text": [
      "   Temperature  Ice Cream Profits\n",
      "0           39              13.17\n",
      "1           40              11.88\n",
      "2           41              18.82\n",
      "3           42              18.65\n",
      "4           43              17.02\n"
     ]
    }
   ],
   "source": [
    "#Read CSV Files into Pandas DataFrames\n",
    "import pandas as pd\n",
    "\n",
    "# Reading a simple csv file\n",
    "df = pd.read_csv(\"Ice Cream Sales - temperatures.csv\")\n",
    "\n",
    "# Display the first few rows\n",
    "print(df.head())"
   ]
  },
  {
   "cell_type": "code",
   "execution_count": 12,
   "id": "8021b1a5-c1e3-4ba5-b9f5-8fc14f31435c",
   "metadata": {},
   "outputs": [
    {
     "name": "stdout",
     "output_type": "stream",
     "text": [
      "   40  11.88\n",
      "0  41  18.82\n",
      "1  42  18.65\n",
      "2  43  17.02\n",
      "3  43  15.88\n",
      "4  44  19.07\n",
      "5  44  19.57\n",
      "6  45  21.62\n",
      "7  45  22.34\n",
      "8  45  19.23\n",
      "9  46  21.25\n"
     ]
    }
   ],
   "source": [
    "#Explore Different CSV Reading Options and Parameters\n",
    "df = pd.read_csv(\"Ice Cream Sales - temperatures.csv\", \n",
    "                 delimiter=\",\",   # Specify delimiter (e.g., comma or semicolon)\n",
    "                 header=0,        # Specify which row contains the headers\n",
    "                 skiprows=2,      # Skip first 2 rows\n",
    "                 nrows=10)        # Read only the first 10 rows\n",
    "\n",
    "print(df)"
   ]
  },
  {
   "cell_type": "code",
   "execution_count": 16,
   "id": "3e4c8f29-c9c0-4b9d-80c4-a05db573de7f",
   "metadata": {},
   "outputs": [
    {
     "name": "stdout",
     "output_type": "stream",
     "text": [
      "Temperature          0\n",
      "Ice Cream Profits    0\n",
      "dtype: int64\n",
      "     Temperature  Ice Cream Profits\n",
      "0             39              13.17\n",
      "1             40              11.88\n",
      "2             41              18.82\n",
      "3             42              18.65\n",
      "4             43              17.02\n",
      "..           ...                ...\n",
      "360           99              85.13\n",
      "361           99              87.08\n",
      "362           99              89.29\n",
      "363          101              81.91\n",
      "364          101              85.02\n",
      "\n",
      "[365 rows x 2 columns]\n"
     ]
    }
   ],
   "source": [
    "#Handle Missing Values While Reading\n",
    "# Reading CSV and specifying values to be treated as NaN (missing)\n",
    "df = pd.read_csv(\"Ice Cream Sales - temperatures.csv\", na_values=[\"\", \"NA\", \"n/a\", \"None\"])\n",
    "\n",
    "# Check for missing values\n",
    "print(df.isnull().sum())  # Shows the number of missing values per column\n",
    "\n",
    "# Filling missing values with a specific value (e.g., 0 or 'Unknown')\n",
    "df_filled = df.fillna(0)\n",
    "\n",
    "print(df_filled)"
   ]
  },
  {
   "cell_type": "code",
   "execution_count": 18,
   "id": "1cf0ae03-8f89-400c-89a6-8b93f4d71ec6",
   "metadata": {},
   "outputs": [
    {
     "name": "stdout",
     "output_type": "stream",
     "text": [
      "   Temperature  Ice Cream Profits\n",
      "0           39              13.17\n",
      "1           40              11.88\n",
      "2           41              18.82\n",
      "3           42              18.65\n",
      "4           43              17.02\n",
      "   Temperature  Ice Cream Profits\n",
      "0           39              13.17\n",
      "1           40              11.88\n",
      "2           41              18.82\n",
      "3           42              18.65\n",
      "4           43              17.02\n"
     ]
    }
   ],
   "source": [
    "#Data Cleaning and Dropping Rows/Columns\n",
    "# Drop rows with any missing values\n",
    "df_cleaned = df.dropna()\n",
    "\n",
    "# Drop columns where all values are missing\n",
    "df_cleaned_columns = df.dropna(axis=1, how=\"all\")\n",
    "\n",
    "print(df_cleaned.head())          # DataFrame with rows containing no missing values\n",
    "print(df_cleaned_columns.head())  # DataFrame with columns containing no missing values"
   ]
  },
  {
   "cell_type": "code",
   "execution_count": 20,
   "id": "9bb544f2-6ff7-45c1-adf7-64274c37711a",
   "metadata": {},
   "outputs": [
    {
     "name": "stdout",
     "output_type": "stream",
     "text": [
      "   Temperature  Ice Cream Profits\n",
      "0           39              13.17\n",
      "1           40              11.88\n",
      "2           41              18.82\n",
      "3           42              18.65\n",
      "4           43              17.02\n"
     ]
    }
   ],
   "source": [
    "#Reading Large CSV Files in Chunks\n",
    "# Read CSV file in chunks\n",
    "chunk_size = 1000  # Number of rows per chunk\n",
    "chunks = pd.read_csv(\"Ice Cream Sales - temperatures.csv\", chunksize=chunk_size)\n",
    "\n",
    "# Process each chunk\n",
    "for chunk in chunks:\n",
    "    print(chunk.head())  # Display the first few rows of each chunk"
   ]
  },
  {
   "cell_type": "code",
   "execution_count": null,
   "id": "26c8e7dc-261e-40d9-91cc-ff549f6abb4a",
   "metadata": {},
   "outputs": [],
   "source": []
  }
 ],
 "metadata": {
  "kernelspec": {
   "display_name": "Python 3 (ipykernel)",
   "language": "python",
   "name": "python3"
  },
  "language_info": {
   "codemirror_mode": {
    "name": "ipython",
    "version": 3
   },
   "file_extension": ".py",
   "mimetype": "text/x-python",
   "name": "python",
   "nbconvert_exporter": "python",
   "pygments_lexer": "ipython3",
   "version": "3.12.4"
  }
 },
 "nbformat": 4,
 "nbformat_minor": 5
}
